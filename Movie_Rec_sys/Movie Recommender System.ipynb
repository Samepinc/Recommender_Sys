{
 "cells": [
  {
   "cell_type": "code",
   "execution_count": 1,
   "metadata": {
    "_cell_guid": "b1076dfc-b9ad-4769-8c92-a6c4dae69d19",
    "_uuid": "8f2839f25d086af736a60e9eeb907d3b93b6e0e5"
   },
   "outputs": [],
   "source": [
    "# This Python 3 environment comes with many helpful analytics libraries installed\n",
    "# It is defined by the kaggle/python Docker image: https://github.com/kaggle/docker-python\n",
    "# For example, here's several helpful packages to load\n",
    "\n",
    "import numpy as np # linear algebra\n",
    "import pandas as pd # data processing, CSV file I/O (e.g. pd.read_csv)\n",
    "\n",
    "# Input data files are available in the read-only \"../input/\" directory\n",
    "# For example, running this (by clicking run or pressing Shift+Enter) will list all files under the input directory\n",
    "\n",
    "import os\n",
    "for dirname, _, filenames in os.walk('/kaggle/input'):\n",
    "    for filename in filenames:\n",
    "        print(os.path.join(dirname, filename))\n",
    "\n",
    "# You can write up to 20GB to the current directory (/kaggle/working/) that gets preserved as output when you create a version using \"Save & Run All\" \n",
    "# You can also write temporary files to /kaggle/temp/, but they won't be saved outside of the current session"
   ]
  },
  {
   "cell_type": "code",
   "execution_count": 2,
   "metadata": {},
   "outputs": [],
   "source": [
    "import ast"
   ]
  },
  {
   "cell_type": "code",
   "execution_count": 3,
   "metadata": {},
   "outputs": [],
   "source": [
    "movies = pd.read_csv(\"dataset.csv\")"
   ]
  },
  {
   "cell_type": "code",
   "execution_count": 4,
   "metadata": {},
   "outputs": [
    {
     "data": {
      "text/html": [
       "<div>\n",
       "<style scoped>\n",
       "    .dataframe tbody tr th:only-of-type {\n",
       "        vertical-align: middle;\n",
       "    }\n",
       "\n",
       "    .dataframe tbody tr th {\n",
       "        vertical-align: top;\n",
       "    }\n",
       "\n",
       "    .dataframe thead th {\n",
       "        text-align: right;\n",
       "    }\n",
       "</style>\n",
       "<table border=\"1\" class=\"dataframe\">\n",
       "  <thead>\n",
       "    <tr style=\"text-align: right;\">\n",
       "      <th></th>\n",
       "      <th>Unnamed: 0</th>\n",
       "      <th>movie_id</th>\n",
       "      <th>movie_name</th>\n",
       "      <th>year</th>\n",
       "      <th>genre</th>\n",
       "      <th>overview</th>\n",
       "      <th>director</th>\n",
       "      <th>cast</th>\n",
       "    </tr>\n",
       "  </thead>\n",
       "  <tbody>\n",
       "    <tr>\n",
       "      <th>0</th>\n",
       "      <td>0</td>\n",
       "      <td>tt15354916</td>\n",
       "      <td>Jawan</td>\n",
       "      <td>2023</td>\n",
       "      <td>Action, Thriller</td>\n",
       "      <td>A high-octane action thriller which outlines t...</td>\n",
       "      <td>Atlee</td>\n",
       "      <td>Shah Rukh Khan, Nayanthara, Vijay Sethupathi, ...</td>\n",
       "    </tr>\n",
       "    <tr>\n",
       "      <th>1</th>\n",
       "      <td>1</td>\n",
       "      <td>tt15748830</td>\n",
       "      <td>Jaane Jaan</td>\n",
       "      <td>2023</td>\n",
       "      <td>Crime, Drama, Mystery</td>\n",
       "      <td>A single mother and her daughter who commit a ...</td>\n",
       "      <td>Sujoy Ghosh</td>\n",
       "      <td>Kareena Kapoor, Jaideep Ahlawat, Vijay Varma, ...</td>\n",
       "    </tr>\n",
       "  </tbody>\n",
       "</table>\n",
       "</div>"
      ],
      "text/plain": [
       "   Unnamed: 0    movie_id  movie_name  year                  genre  \\\n",
       "0           0  tt15354916       Jawan  2023       Action, Thriller   \n",
       "1           1  tt15748830  Jaane Jaan  2023  Crime, Drama, Mystery   \n",
       "\n",
       "                                            overview     director  \\\n",
       "0  A high-octane action thriller which outlines t...        Atlee   \n",
       "1  A single mother and her daughter who commit a ...  Sujoy Ghosh   \n",
       "\n",
       "                                                cast  \n",
       "0  Shah Rukh Khan, Nayanthara, Vijay Sethupathi, ...  \n",
       "1  Kareena Kapoor, Jaideep Ahlawat, Vijay Varma, ...  "
      ]
     },
     "execution_count": 4,
     "metadata": {},
     "output_type": "execute_result"
    }
   ],
   "source": [
    "movies.head(2)"
   ]
  },
  {
   "cell_type": "code",
   "execution_count": 5,
   "metadata": {},
   "outputs": [
    {
     "data": {
      "text/plain": [
       "(2199, 8)"
      ]
     },
     "execution_count": 5,
     "metadata": {},
     "output_type": "execute_result"
    }
   ],
   "source": [
    "movies.shape"
   ]
  },
  {
   "cell_type": "code",
   "execution_count": 6,
   "metadata": {},
   "outputs": [
    {
     "data": {
      "text/plain": [
       "Unnamed: 0     0\n",
       "movie_id       0\n",
       "movie_name     0\n",
       "year          65\n",
       "genre          0\n",
       "overview       0\n",
       "director       0\n",
       "cast           0\n",
       "dtype: int64"
      ]
     },
     "execution_count": 6,
     "metadata": {},
     "output_type": "execute_result"
    }
   ],
   "source": [
    "movies.isnull().sum()"
   ]
  },
  {
   "cell_type": "code",
   "execution_count": 7,
   "metadata": {},
   "outputs": [],
   "source": [
    "movies.dropna(inplace=True)"
   ]
  },
  {
   "cell_type": "code",
   "execution_count": 8,
   "metadata": {},
   "outputs": [
    {
     "data": {
      "text/plain": [
       "np.int64(0)"
      ]
     },
     "execution_count": 8,
     "metadata": {},
     "output_type": "execute_result"
    }
   ],
   "source": [
    "movies.duplicated().sum()"
   ]
  },
  {
   "cell_type": "code",
   "execution_count": 9,
   "metadata": {},
   "outputs": [
    {
     "data": {
      "text/plain": [
       "'Ranveer Singh, Alia Bhatt, Dharmendra, Shabana Azmi'"
      ]
     },
     "execution_count": 9,
     "metadata": {},
     "output_type": "execute_result"
    }
   ],
   "source": [
    "movies.iloc[3].cast"
   ]
  },
  {
   "cell_type": "code",
   "execution_count": 10,
   "metadata": {},
   "outputs": [],
   "source": [
    "def convert(text):\n",
    "    L=text.split(',')\n",
    "    return L"
   ]
  },
  {
   "cell_type": "code",
   "execution_count": 11,
   "metadata": {},
   "outputs": [
    {
     "data": {
      "text/html": [
       "<div>\n",
       "<style scoped>\n",
       "    .dataframe tbody tr th:only-of-type {\n",
       "        vertical-align: middle;\n",
       "    }\n",
       "\n",
       "    .dataframe tbody tr th {\n",
       "        vertical-align: top;\n",
       "    }\n",
       "\n",
       "    .dataframe thead th {\n",
       "        text-align: right;\n",
       "    }\n",
       "</style>\n",
       "<table border=\"1\" class=\"dataframe\">\n",
       "  <thead>\n",
       "    <tr style=\"text-align: right;\">\n",
       "      <th></th>\n",
       "      <th>Unnamed: 0</th>\n",
       "      <th>movie_id</th>\n",
       "      <th>movie_name</th>\n",
       "      <th>year</th>\n",
       "      <th>genre</th>\n",
       "      <th>overview</th>\n",
       "      <th>director</th>\n",
       "      <th>cast</th>\n",
       "    </tr>\n",
       "  </thead>\n",
       "  <tbody>\n",
       "    <tr>\n",
       "      <th>0</th>\n",
       "      <td>0</td>\n",
       "      <td>tt15354916</td>\n",
       "      <td>Jawan</td>\n",
       "      <td>2023</td>\n",
       "      <td>[Action,  Thriller]</td>\n",
       "      <td>A high-octane action thriller which outlines t...</td>\n",
       "      <td>Atlee</td>\n",
       "      <td>Shah Rukh Khan, Nayanthara, Vijay Sethupathi, ...</td>\n",
       "    </tr>\n",
       "    <tr>\n",
       "      <th>1</th>\n",
       "      <td>1</td>\n",
       "      <td>tt15748830</td>\n",
       "      <td>Jaane Jaan</td>\n",
       "      <td>2023</td>\n",
       "      <td>[Crime,  Drama,  Mystery]</td>\n",
       "      <td>A single mother and her daughter who commit a ...</td>\n",
       "      <td>Sujoy Ghosh</td>\n",
       "      <td>Kareena Kapoor, Jaideep Ahlawat, Vijay Varma, ...</td>\n",
       "    </tr>\n",
       "    <tr>\n",
       "      <th>2</th>\n",
       "      <td>2</td>\n",
       "      <td>tt11663228</td>\n",
       "      <td>Jailer</td>\n",
       "      <td>2023</td>\n",
       "      <td>[Action,  Comedy,  Crime]</td>\n",
       "      <td>A retired jailer goes on a manhunt to find his...</td>\n",
       "      <td>Nelson Dilipkumar</td>\n",
       "      <td>Rajinikanth, Mohanlal, Shivarajkumar, Jackie S...</td>\n",
       "    </tr>\n",
       "    <tr>\n",
       "      <th>3</th>\n",
       "      <td>3</td>\n",
       "      <td>tt14993250</td>\n",
       "      <td>Rocky Aur Rani Kii Prem Kahaani</td>\n",
       "      <td>2023</td>\n",
       "      <td>[Comedy,  Drama,  Family]</td>\n",
       "      <td>Flamboyant Punjabi Rocky and intellectual Beng...</td>\n",
       "      <td>Karan Johar</td>\n",
       "      <td>Ranveer Singh, Alia Bhatt, Dharmendra, Shabana...</td>\n",
       "    </tr>\n",
       "    <tr>\n",
       "      <th>4</th>\n",
       "      <td>4</td>\n",
       "      <td>tt15732324</td>\n",
       "      <td>OMG 2</td>\n",
       "      <td>2023</td>\n",
       "      <td>[Comedy,  Drama]</td>\n",
       "      <td>An unhappy civilian asks the court to mandate ...</td>\n",
       "      <td>Amit Rai</td>\n",
       "      <td>Pankaj Tripathi, Akshay Kumar, Yami Gautam, Pa...</td>\n",
       "    </tr>\n",
       "  </tbody>\n",
       "</table>\n",
       "</div>"
      ],
      "text/plain": [
       "   Unnamed: 0    movie_id                       movie_name  year  \\\n",
       "0           0  tt15354916                            Jawan  2023   \n",
       "1           1  tt15748830                       Jaane Jaan  2023   \n",
       "2           2  tt11663228                           Jailer  2023   \n",
       "3           3  tt14993250  Rocky Aur Rani Kii Prem Kahaani  2023   \n",
       "4           4  tt15732324                            OMG 2  2023   \n",
       "\n",
       "                       genre  \\\n",
       "0        [Action,  Thriller]   \n",
       "1  [Crime,  Drama,  Mystery]   \n",
       "2  [Action,  Comedy,  Crime]   \n",
       "3  [Comedy,  Drama,  Family]   \n",
       "4           [Comedy,  Drama]   \n",
       "\n",
       "                                            overview           director  \\\n",
       "0  A high-octane action thriller which outlines t...              Atlee   \n",
       "1  A single mother and her daughter who commit a ...        Sujoy Ghosh   \n",
       "2  A retired jailer goes on a manhunt to find his...  Nelson Dilipkumar   \n",
       "3  Flamboyant Punjabi Rocky and intellectual Beng...        Karan Johar   \n",
       "4  An unhappy civilian asks the court to mandate ...           Amit Rai   \n",
       "\n",
       "                                                cast  \n",
       "0  Shah Rukh Khan, Nayanthara, Vijay Sethupathi, ...  \n",
       "1  Kareena Kapoor, Jaideep Ahlawat, Vijay Varma, ...  \n",
       "2  Rajinikanth, Mohanlal, Shivarajkumar, Jackie S...  \n",
       "3  Ranveer Singh, Alia Bhatt, Dharmendra, Shabana...  \n",
       "4  Pankaj Tripathi, Akshay Kumar, Yami Gautam, Pa...  "
      ]
     },
     "execution_count": 11,
     "metadata": {},
     "output_type": "execute_result"
    }
   ],
   "source": [
    "movies['genre'] = movies['genre'].apply(convert)\n",
    "movies.head()"
   ]
  },
  {
   "cell_type": "code",
   "execution_count": 12,
   "metadata": {},
   "outputs": [],
   "source": [
    "def convert2(text):\n",
    "    L=text.split(\" \")\n",
    "    return L"
   ]
  },
  {
   "cell_type": "code",
   "execution_count": 13,
   "metadata": {},
   "outputs": [],
   "source": [
    "movies['overview'] = movies['overview'].apply(convert2)\n",
    "movies['director'] = movies['director'].apply(convert2)\n",
    "movies['cast'] = movies['cast'].apply(convert)"
   ]
  },
  {
   "cell_type": "code",
   "execution_count": 14,
   "metadata": {},
   "outputs": [
    {
     "data": {
      "text/html": [
       "<div>\n",
       "<style scoped>\n",
       "    .dataframe tbody tr th:only-of-type {\n",
       "        vertical-align: middle;\n",
       "    }\n",
       "\n",
       "    .dataframe tbody tr th {\n",
       "        vertical-align: top;\n",
       "    }\n",
       "\n",
       "    .dataframe thead th {\n",
       "        text-align: right;\n",
       "    }\n",
       "</style>\n",
       "<table border=\"1\" class=\"dataframe\">\n",
       "  <thead>\n",
       "    <tr style=\"text-align: right;\">\n",
       "      <th></th>\n",
       "      <th>Unnamed: 0</th>\n",
       "      <th>movie_id</th>\n",
       "      <th>movie_name</th>\n",
       "      <th>year</th>\n",
       "      <th>genre</th>\n",
       "      <th>overview</th>\n",
       "      <th>director</th>\n",
       "      <th>cast</th>\n",
       "    </tr>\n",
       "  </thead>\n",
       "  <tbody>\n",
       "    <tr>\n",
       "      <th>0</th>\n",
       "      <td>0</td>\n",
       "      <td>tt15354916</td>\n",
       "      <td>Jawan</td>\n",
       "      <td>2023</td>\n",
       "      <td>[Action,  Thriller]</td>\n",
       "      <td>[A, high-octane, action, thriller, which, outl...</td>\n",
       "      <td>[Atlee]</td>\n",
       "      <td>[Shah Rukh Khan,  Nayanthara,  Vijay Sethupath...</td>\n",
       "    </tr>\n",
       "    <tr>\n",
       "      <th>1</th>\n",
       "      <td>1</td>\n",
       "      <td>tt15748830</td>\n",
       "      <td>Jaane Jaan</td>\n",
       "      <td>2023</td>\n",
       "      <td>[Crime,  Drama,  Mystery]</td>\n",
       "      <td>[A, single, mother, and, her, daughter, who, c...</td>\n",
       "      <td>[Sujoy, Ghosh]</td>\n",
       "      <td>[Kareena Kapoor,  Jaideep Ahlawat,  Vijay Varm...</td>\n",
       "    </tr>\n",
       "    <tr>\n",
       "      <th>2</th>\n",
       "      <td>2</td>\n",
       "      <td>tt11663228</td>\n",
       "      <td>Jailer</td>\n",
       "      <td>2023</td>\n",
       "      <td>[Action,  Comedy,  Crime]</td>\n",
       "      <td>[A, retired, jailer, goes, on, a, manhunt, to,...</td>\n",
       "      <td>[Nelson, Dilipkumar]</td>\n",
       "      <td>[Rajinikanth,  Mohanlal,  Shivarajkumar,  Jack...</td>\n",
       "    </tr>\n",
       "    <tr>\n",
       "      <th>3</th>\n",
       "      <td>3</td>\n",
       "      <td>tt14993250</td>\n",
       "      <td>Rocky Aur Rani Kii Prem Kahaani</td>\n",
       "      <td>2023</td>\n",
       "      <td>[Comedy,  Drama,  Family]</td>\n",
       "      <td>[Flamboyant, Punjabi, Rocky, and, intellectual...</td>\n",
       "      <td>[Karan, Johar]</td>\n",
       "      <td>[Ranveer Singh,  Alia Bhatt,  Dharmendra,  Sha...</td>\n",
       "    </tr>\n",
       "    <tr>\n",
       "      <th>4</th>\n",
       "      <td>4</td>\n",
       "      <td>tt15732324</td>\n",
       "      <td>OMG 2</td>\n",
       "      <td>2023</td>\n",
       "      <td>[Comedy,  Drama]</td>\n",
       "      <td>[An, unhappy, civilian, asks, the, court, to, ...</td>\n",
       "      <td>[Amit, Rai]</td>\n",
       "      <td>[Pankaj Tripathi,  Akshay Kumar,  Yami Gautam,...</td>\n",
       "    </tr>\n",
       "  </tbody>\n",
       "</table>\n",
       "</div>"
      ],
      "text/plain": [
       "   Unnamed: 0    movie_id                       movie_name  year  \\\n",
       "0           0  tt15354916                            Jawan  2023   \n",
       "1           1  tt15748830                       Jaane Jaan  2023   \n",
       "2           2  tt11663228                           Jailer  2023   \n",
       "3           3  tt14993250  Rocky Aur Rani Kii Prem Kahaani  2023   \n",
       "4           4  tt15732324                            OMG 2  2023   \n",
       "\n",
       "                       genre  \\\n",
       "0        [Action,  Thriller]   \n",
       "1  [Crime,  Drama,  Mystery]   \n",
       "2  [Action,  Comedy,  Crime]   \n",
       "3  [Comedy,  Drama,  Family]   \n",
       "4           [Comedy,  Drama]   \n",
       "\n",
       "                                            overview              director  \\\n",
       "0  [A, high-octane, action, thriller, which, outl...               [Atlee]   \n",
       "1  [A, single, mother, and, her, daughter, who, c...        [Sujoy, Ghosh]   \n",
       "2  [A, retired, jailer, goes, on, a, manhunt, to,...  [Nelson, Dilipkumar]   \n",
       "3  [Flamboyant, Punjabi, Rocky, and, intellectual...        [Karan, Johar]   \n",
       "4  [An, unhappy, civilian, asks, the, court, to, ...           [Amit, Rai]   \n",
       "\n",
       "                                                cast  \n",
       "0  [Shah Rukh Khan,  Nayanthara,  Vijay Sethupath...  \n",
       "1  [Kareena Kapoor,  Jaideep Ahlawat,  Vijay Varm...  \n",
       "2  [Rajinikanth,  Mohanlal,  Shivarajkumar,  Jack...  \n",
       "3  [Ranveer Singh,  Alia Bhatt,  Dharmendra,  Sha...  \n",
       "4  [Pankaj Tripathi,  Akshay Kumar,  Yami Gautam,...  "
      ]
     },
     "execution_count": 14,
     "metadata": {},
     "output_type": "execute_result"
    }
   ],
   "source": [
    "movies.head()"
   ]
  },
  {
   "cell_type": "code",
   "execution_count": 15,
   "metadata": {},
   "outputs": [
    {
     "data": {
      "text/html": [
       "<div>\n",
       "<style scoped>\n",
       "    .dataframe tbody tr th:only-of-type {\n",
       "        vertical-align: middle;\n",
       "    }\n",
       "\n",
       "    .dataframe tbody tr th {\n",
       "        vertical-align: top;\n",
       "    }\n",
       "\n",
       "    .dataframe thead th {\n",
       "        text-align: right;\n",
       "    }\n",
       "</style>\n",
       "<table border=\"1\" class=\"dataframe\">\n",
       "  <thead>\n",
       "    <tr style=\"text-align: right;\">\n",
       "      <th></th>\n",
       "      <th>Unnamed: 0</th>\n",
       "      <th>movie_id</th>\n",
       "      <th>movie_name</th>\n",
       "      <th>year</th>\n",
       "      <th>genre</th>\n",
       "      <th>overview</th>\n",
       "      <th>director</th>\n",
       "      <th>cast</th>\n",
       "    </tr>\n",
       "  </thead>\n",
       "  <tbody>\n",
       "    <tr>\n",
       "      <th>91</th>\n",
       "      <td>91</td>\n",
       "      <td>tt5946128</td>\n",
       "      <td>Dear Zindagi</td>\n",
       "      <td>2016</td>\n",
       "      <td>[Drama,  Romance]</td>\n",
       "      <td>[Kaira, is, a, budding, cinematographer, in, s...</td>\n",
       "      <td>[Gauri, Shinde]</td>\n",
       "      <td>[Alia Bhatt,  Shah Rukh Khan,  Kunal Kapoor,  ...</td>\n",
       "    </tr>\n",
       "    <tr>\n",
       "      <th>588</th>\n",
       "      <td>588</td>\n",
       "      <td>tt0120540</td>\n",
       "      <td>Yes Boss</td>\n",
       "      <td>1997</td>\n",
       "      <td>[Comedy,  Drama,  Musical]</td>\n",
       "      <td>[Rahul, Joshi, wants, to, be, a, successful, b...</td>\n",
       "      <td>[Aziz, Mirza]</td>\n",
       "      <td>[Shah Rukh Khan,  Juhi Chawla,  Aditya Panchol...</td>\n",
       "    </tr>\n",
       "    <tr>\n",
       "      <th>2178</th>\n",
       "      <td>2179</td>\n",
       "      <td>tt0056850</td>\n",
       "      <td>Bandini</td>\n",
       "      <td>1963</td>\n",
       "      <td>[Drama,  Musical,  Romance]</td>\n",
       "      <td>[During, the, British, Raj, of, the, 1930s,, a...</td>\n",
       "      <td>[Bimal, Roy]</td>\n",
       "      <td>[Ashok Kumar,  Nutan,  Dharmendra,  Raja Paran...</td>\n",
       "    </tr>\n",
       "    <tr>\n",
       "      <th>1238</th>\n",
       "      <td>1238</td>\n",
       "      <td>tt7527082</td>\n",
       "      <td>Hamid</td>\n",
       "      <td>2018</td>\n",
       "      <td>[Drama]</td>\n",
       "      <td>[Eight, year-old, Hamid, learns, that, 786, is...</td>\n",
       "      <td>[Aijaz, Khan]</td>\n",
       "      <td>[Talha Arshad Reshi,  Vikas Kumar,  Rasika Dug...</td>\n",
       "    </tr>\n",
       "    <tr>\n",
       "      <th>1006</th>\n",
       "      <td>1006</td>\n",
       "      <td>tt2357926</td>\n",
       "      <td>Ramaiya Vastavaiya</td>\n",
       "      <td>2013</td>\n",
       "      <td>[Action,  Drama,  Romance]</td>\n",
       "      <td>[Ram, falls, in, love, with, Sona,, who, lives...</td>\n",
       "      <td>[Prabhu, Deva]</td>\n",
       "      <td>[Shruti Haasan,  Girish Taurani,  Sonu Sood,  ...</td>\n",
       "    </tr>\n",
       "  </tbody>\n",
       "</table>\n",
       "</div>"
      ],
      "text/plain": [
       "      Unnamed: 0   movie_id          movie_name  year  \\\n",
       "91            91  tt5946128        Dear Zindagi  2016   \n",
       "588          588  tt0120540            Yes Boss  1997   \n",
       "2178        2179  tt0056850             Bandini  1963   \n",
       "1238        1238  tt7527082               Hamid  2018   \n",
       "1006        1006  tt2357926  Ramaiya Vastavaiya  2013   \n",
       "\n",
       "                            genre  \\\n",
       "91              [Drama,  Romance]   \n",
       "588    [Comedy,  Drama,  Musical]   \n",
       "2178  [Drama,  Musical,  Romance]   \n",
       "1238                      [Drama]   \n",
       "1006   [Action,  Drama,  Romance]   \n",
       "\n",
       "                                               overview         director  \\\n",
       "91    [Kaira, is, a, budding, cinematographer, in, s...  [Gauri, Shinde]   \n",
       "588   [Rahul, Joshi, wants, to, be, a, successful, b...    [Aziz, Mirza]   \n",
       "2178  [During, the, British, Raj, of, the, 1930s,, a...     [Bimal, Roy]   \n",
       "1238  [Eight, year-old, Hamid, learns, that, 786, is...    [Aijaz, Khan]   \n",
       "1006  [Ram, falls, in, love, with, Sona,, who, lives...   [Prabhu, Deva]   \n",
       "\n",
       "                                                   cast  \n",
       "91    [Alia Bhatt,  Shah Rukh Khan,  Kunal Kapoor,  ...  \n",
       "588   [Shah Rukh Khan,  Juhi Chawla,  Aditya Panchol...  \n",
       "2178  [Ashok Kumar,  Nutan,  Dharmendra,  Raja Paran...  \n",
       "1238  [Talha Arshad Reshi,  Vikas Kumar,  Rasika Dug...  \n",
       "1006  [Shruti Haasan,  Girish Taurani,  Sonu Sood,  ...  "
      ]
     },
     "execution_count": 15,
     "metadata": {},
     "output_type": "execute_result"
    }
   ],
   "source": [
    "#movies['overview'] = movies['overview'].apply(lambda x:x.split())\n",
    "movies.sample(5)"
   ]
  },
  {
   "cell_type": "code",
   "execution_count": 16,
   "metadata": {},
   "outputs": [],
   "source": [
    "def collapse(L):\n",
    "    L1 = []\n",
    "    for i in L:\n",
    "        L1.append(i.replace(\" \",\"\"))\n",
    "    return L1"
   ]
  },
  {
   "cell_type": "code",
   "execution_count": 17,
   "metadata": {},
   "outputs": [],
   "source": [
    "movies['genre'] = movies['genre'].apply(collapse)\n",
    "movies['overview'] = movies['overview'].apply(collapse)\n",
    "movies['director'] = movies['director'].apply(collapse)\n",
    "movies['cast'] = movies['cast'].apply(collapse)"
   ]
  },
  {
   "cell_type": "code",
   "execution_count": 18,
   "metadata": {},
   "outputs": [
    {
     "data": {
      "text/html": [
       "<div>\n",
       "<style scoped>\n",
       "    .dataframe tbody tr th:only-of-type {\n",
       "        vertical-align: middle;\n",
       "    }\n",
       "\n",
       "    .dataframe tbody tr th {\n",
       "        vertical-align: top;\n",
       "    }\n",
       "\n",
       "    .dataframe thead th {\n",
       "        text-align: right;\n",
       "    }\n",
       "</style>\n",
       "<table border=\"1\" class=\"dataframe\">\n",
       "  <thead>\n",
       "    <tr style=\"text-align: right;\">\n",
       "      <th></th>\n",
       "      <th>Unnamed: 0</th>\n",
       "      <th>movie_id</th>\n",
       "      <th>movie_name</th>\n",
       "      <th>year</th>\n",
       "      <th>genre</th>\n",
       "      <th>overview</th>\n",
       "      <th>director</th>\n",
       "      <th>cast</th>\n",
       "    </tr>\n",
       "  </thead>\n",
       "  <tbody>\n",
       "    <tr>\n",
       "      <th>0</th>\n",
       "      <td>0</td>\n",
       "      <td>tt15354916</td>\n",
       "      <td>Jawan</td>\n",
       "      <td>2023</td>\n",
       "      <td>[Action, Thriller]</td>\n",
       "      <td>[A, high-octane, action, thriller, which, outl...</td>\n",
       "      <td>[Atlee]</td>\n",
       "      <td>[ShahRukhKhan, Nayanthara, VijaySethupathi, De...</td>\n",
       "    </tr>\n",
       "    <tr>\n",
       "      <th>1</th>\n",
       "      <td>1</td>\n",
       "      <td>tt15748830</td>\n",
       "      <td>Jaane Jaan</td>\n",
       "      <td>2023</td>\n",
       "      <td>[Crime, Drama, Mystery]</td>\n",
       "      <td>[A, single, mother, and, her, daughter, who, c...</td>\n",
       "      <td>[Sujoy, Ghosh]</td>\n",
       "      <td>[KareenaKapoor, JaideepAhlawat, VijayVarma, Sa...</td>\n",
       "    </tr>\n",
       "    <tr>\n",
       "      <th>2</th>\n",
       "      <td>2</td>\n",
       "      <td>tt11663228</td>\n",
       "      <td>Jailer</td>\n",
       "      <td>2023</td>\n",
       "      <td>[Action, Comedy, Crime]</td>\n",
       "      <td>[A, retired, jailer, goes, on, a, manhunt, to,...</td>\n",
       "      <td>[Nelson, Dilipkumar]</td>\n",
       "      <td>[Rajinikanth, Mohanlal, Shivarajkumar, JackieS...</td>\n",
       "    </tr>\n",
       "    <tr>\n",
       "      <th>3</th>\n",
       "      <td>3</td>\n",
       "      <td>tt14993250</td>\n",
       "      <td>Rocky Aur Rani Kii Prem Kahaani</td>\n",
       "      <td>2023</td>\n",
       "      <td>[Comedy, Drama, Family]</td>\n",
       "      <td>[Flamboyant, Punjabi, Rocky, and, intellectual...</td>\n",
       "      <td>[Karan, Johar]</td>\n",
       "      <td>[RanveerSingh, AliaBhatt, Dharmendra, ShabanaA...</td>\n",
       "    </tr>\n",
       "    <tr>\n",
       "      <th>4</th>\n",
       "      <td>4</td>\n",
       "      <td>tt15732324</td>\n",
       "      <td>OMG 2</td>\n",
       "      <td>2023</td>\n",
       "      <td>[Comedy, Drama]</td>\n",
       "      <td>[An, unhappy, civilian, asks, the, court, to, ...</td>\n",
       "      <td>[Amit, Rai]</td>\n",
       "      <td>[PankajTripathi, AkshayKumar, YamiGautam, Pawa...</td>\n",
       "    </tr>\n",
       "  </tbody>\n",
       "</table>\n",
       "</div>"
      ],
      "text/plain": [
       "   Unnamed: 0    movie_id                       movie_name  year  \\\n",
       "0           0  tt15354916                            Jawan  2023   \n",
       "1           1  tt15748830                       Jaane Jaan  2023   \n",
       "2           2  tt11663228                           Jailer  2023   \n",
       "3           3  tt14993250  Rocky Aur Rani Kii Prem Kahaani  2023   \n",
       "4           4  tt15732324                            OMG 2  2023   \n",
       "\n",
       "                     genre                                           overview  \\\n",
       "0       [Action, Thriller]  [A, high-octane, action, thriller, which, outl...   \n",
       "1  [Crime, Drama, Mystery]  [A, single, mother, and, her, daughter, who, c...   \n",
       "2  [Action, Comedy, Crime]  [A, retired, jailer, goes, on, a, manhunt, to,...   \n",
       "3  [Comedy, Drama, Family]  [Flamboyant, Punjabi, Rocky, and, intellectual...   \n",
       "4          [Comedy, Drama]  [An, unhappy, civilian, asks, the, court, to, ...   \n",
       "\n",
       "               director                                               cast  \n",
       "0               [Atlee]  [ShahRukhKhan, Nayanthara, VijaySethupathi, De...  \n",
       "1        [Sujoy, Ghosh]  [KareenaKapoor, JaideepAhlawat, VijayVarma, Sa...  \n",
       "2  [Nelson, Dilipkumar]  [Rajinikanth, Mohanlal, Shivarajkumar, JackieS...  \n",
       "3        [Karan, Johar]  [RanveerSingh, AliaBhatt, Dharmendra, ShabanaA...  \n",
       "4           [Amit, Rai]  [PankajTripathi, AkshayKumar, YamiGautam, Pawa...  "
      ]
     },
     "execution_count": 18,
     "metadata": {},
     "output_type": "execute_result"
    }
   ],
   "source": [
    "movies.head()"
   ]
  },
  {
   "cell_type": "code",
   "execution_count": 19,
   "metadata": {},
   "outputs": [],
   "source": [
    "movies['tags'] = movies['overview'] + movies['genre'] + movies['director'] + movies['cast']"
   ]
  },
  {
   "cell_type": "code",
   "execution_count": 20,
   "metadata": {},
   "outputs": [],
   "source": [
    "new = movies.drop(columns=['overview','genre','director','cast'])\n",
    "#new.head()"
   ]
  },
  {
   "cell_type": "code",
   "execution_count": 21,
   "metadata": {},
   "outputs": [
    {
     "data": {
      "text/html": [
       "<div>\n",
       "<style scoped>\n",
       "    .dataframe tbody tr th:only-of-type {\n",
       "        vertical-align: middle;\n",
       "    }\n",
       "\n",
       "    .dataframe tbody tr th {\n",
       "        vertical-align: top;\n",
       "    }\n",
       "\n",
       "    .dataframe thead th {\n",
       "        text-align: right;\n",
       "    }\n",
       "</style>\n",
       "<table border=\"1\" class=\"dataframe\">\n",
       "  <thead>\n",
       "    <tr style=\"text-align: right;\">\n",
       "      <th></th>\n",
       "      <th>Unnamed: 0</th>\n",
       "      <th>movie_id</th>\n",
       "      <th>movie_name</th>\n",
       "      <th>year</th>\n",
       "      <th>tags</th>\n",
       "    </tr>\n",
       "  </thead>\n",
       "  <tbody>\n",
       "    <tr>\n",
       "      <th>0</th>\n",
       "      <td>0</td>\n",
       "      <td>tt15354916</td>\n",
       "      <td>Jawan</td>\n",
       "      <td>2023</td>\n",
       "      <td>A high-octane action thriller which outlines t...</td>\n",
       "    </tr>\n",
       "    <tr>\n",
       "      <th>1</th>\n",
       "      <td>1</td>\n",
       "      <td>tt15748830</td>\n",
       "      <td>Jaane Jaan</td>\n",
       "      <td>2023</td>\n",
       "      <td>A single mother and her daughter who commit a ...</td>\n",
       "    </tr>\n",
       "    <tr>\n",
       "      <th>2</th>\n",
       "      <td>2</td>\n",
       "      <td>tt11663228</td>\n",
       "      <td>Jailer</td>\n",
       "      <td>2023</td>\n",
       "      <td>A retired jailer goes on a manhunt to find his...</td>\n",
       "    </tr>\n",
       "    <tr>\n",
       "      <th>3</th>\n",
       "      <td>3</td>\n",
       "      <td>tt14993250</td>\n",
       "      <td>Rocky Aur Rani Kii Prem Kahaani</td>\n",
       "      <td>2023</td>\n",
       "      <td>Flamboyant Punjabi Rocky and intellectual Beng...</td>\n",
       "    </tr>\n",
       "    <tr>\n",
       "      <th>4</th>\n",
       "      <td>4</td>\n",
       "      <td>tt15732324</td>\n",
       "      <td>OMG 2</td>\n",
       "      <td>2023</td>\n",
       "      <td>An unhappy civilian asks the court to mandate ...</td>\n",
       "    </tr>\n",
       "  </tbody>\n",
       "</table>\n",
       "</div>"
      ],
      "text/plain": [
       "   Unnamed: 0    movie_id                       movie_name  year  \\\n",
       "0           0  tt15354916                            Jawan  2023   \n",
       "1           1  tt15748830                       Jaane Jaan  2023   \n",
       "2           2  tt11663228                           Jailer  2023   \n",
       "3           3  tt14993250  Rocky Aur Rani Kii Prem Kahaani  2023   \n",
       "4           4  tt15732324                            OMG 2  2023   \n",
       "\n",
       "                                                tags  \n",
       "0  A high-octane action thriller which outlines t...  \n",
       "1  A single mother and her daughter who commit a ...  \n",
       "2  A retired jailer goes on a manhunt to find his...  \n",
       "3  Flamboyant Punjabi Rocky and intellectual Beng...  \n",
       "4  An unhappy civilian asks the court to mandate ...  "
      ]
     },
     "execution_count": 21,
     "metadata": {},
     "output_type": "execute_result"
    }
   ],
   "source": [
    "new['tags'] = new['tags'].apply(lambda x: \" \".join(x))\n",
    "new.head()"
   ]
  },
  {
   "cell_type": "code",
   "execution_count": 22,
   "metadata": {},
   "outputs": [],
   "source": [
    "from sklearn.feature_extraction.text import CountVectorizer\n",
    "cv = CountVectorizer(max_features=5000,stop_words='english')\n",
    "    "
   ]
  },
  {
   "cell_type": "code",
   "execution_count": 23,
   "metadata": {},
   "outputs": [
    {
     "data": {
      "text/plain": [
       "['A',\n",
       " 'retired',\n",
       " 'jailer',\n",
       " 'goes',\n",
       " 'on',\n",
       " 'a',\n",
       " 'manhunt',\n",
       " 'to',\n",
       " 'find',\n",
       " 'his',\n",
       " \"son's\",\n",
       " 'killers.',\n",
       " 'But',\n",
       " 'the',\n",
       " 'road',\n",
       " 'leads',\n",
       " 'him',\n",
       " 'to',\n",
       " 'a',\n",
       " 'familiar,',\n",
       " 'albeit',\n",
       " 'a',\n",
       " 'bit',\n",
       " 'darker',\n",
       " 'place.',\n",
       " 'Can',\n",
       " 'he',\n",
       " 'emerge',\n",
       " 'from',\n",
       " 'this',\n",
       " 'complex',\n",
       " 'situation',\n",
       " 'successfully?',\n",
       " 'Action',\n",
       " 'Comedy',\n",
       " 'Crime',\n",
       " 'Nelson',\n",
       " 'Dilipkumar',\n",
       " 'Rajinikanth',\n",
       " 'Mohanlal',\n",
       " 'Shivarajkumar',\n",
       " 'JackieShroff']"
      ]
     },
     "execution_count": 23,
     "metadata": {},
     "output_type": "execute_result"
    }
   ],
   "source": [
    "movies.iloc[2].tags"
   ]
  },
  {
   "cell_type": "code",
   "execution_count": 24,
   "metadata": {},
   "outputs": [],
   "source": [
    "vector = cv.fit_transform(new['tags']).toarray()"
   ]
  },
  {
   "cell_type": "code",
   "execution_count": 25,
   "metadata": {},
   "outputs": [
    {
     "data": {
      "text/plain": [
       "array(['000', '10', '100', ..., 'zoya', 'zoyahussain', 'zubair'],\n",
       "      shape=(5000,), dtype=object)"
      ]
     },
     "execution_count": 25,
     "metadata": {},
     "output_type": "execute_result"
    }
   ],
   "source": [
    "cv.get_feature_names_out()"
   ]
  },
  {
   "cell_type": "code",
   "execution_count": 36,
   "metadata": {},
   "outputs": [],
   "source": [
    "import nltk\n",
    "from nltk.stem.porter import PorterStemmer\n",
    "ps=PorterStemmer()\n",
    "def stem(text):\n",
    "    y=[]\n",
    "    for i in text.split():\n",
    "        y.append(ps.stem(i))\n",
    "    return \" \".join(y)"
   ]
  },
  {
   "cell_type": "code",
   "execution_count": 37,
   "metadata": {},
   "outputs": [
    {
     "data": {
      "text/plain": [
       "(2134, 5000)"
      ]
     },
     "execution_count": 37,
     "metadata": {},
     "output_type": "execute_result"
    }
   ],
   "source": [
    "vector.shape"
   ]
  },
  {
   "cell_type": "code",
   "execution_count": 38,
   "metadata": {},
   "outputs": [],
   "source": [
    "from sklearn.metrics.pairwise import cosine_similarity"
   ]
  },
  {
   "cell_type": "code",
   "execution_count": 39,
   "metadata": {},
   "outputs": [],
   "source": [
    "similarity = cosine_similarity(vector)"
   ]
  },
  {
   "cell_type": "code",
   "execution_count": 40,
   "metadata": {},
   "outputs": [
    {
     "data": {
      "text/plain": [
       "array([[1.        , 0.        , 0.09567297, ..., 0.        , 0.        ,\n",
       "        0.08520286],\n",
       "       [0.        , 1.        , 0.08891084, ..., 0.        , 0.07918076,\n",
       "        0.03959038],\n",
       "       [0.09567297, 0.08891084, 1.        , ..., 0.        , 0.03872015,\n",
       "        0.11616046],\n",
       "       ...,\n",
       "       [0.        , 0.        , 0.        , ..., 1.        , 0.        ,\n",
       "        0.        ],\n",
       "       [0.        , 0.07918076, 0.03872015, ..., 0.        , 1.        ,\n",
       "        0.10344828],\n",
       "       [0.08520286, 0.03959038, 0.11616046, ..., 0.        , 0.10344828,\n",
       "        1.        ]], shape=(2134, 2134))"
      ]
     },
     "execution_count": 40,
     "metadata": {},
     "output_type": "execute_result"
    }
   ],
   "source": [
    "similarity"
   ]
  },
  {
   "cell_type": "code",
   "execution_count": 41,
   "metadata": {},
   "outputs": [
    {
     "data": {
      "text/plain": [
       "np.int64(0)"
      ]
     },
     "execution_count": 41,
     "metadata": {},
     "output_type": "execute_result"
    }
   ],
   "source": [
    "new[new['movie_name'] == 'Jawan'].index[0]"
   ]
  },
  {
   "cell_type": "code",
   "execution_count": 42,
   "metadata": {},
   "outputs": [],
   "source": [
    "def recommend(movie):\n",
    "    index = new[new['movie_name'] == movie].index[0]\n",
    "    distances = sorted(list(enumerate(similarity[index])),reverse=True,key = lambda x: x[1])\n",
    "    for i in distances[1:6]:\n",
    "        print(new.iloc[i[0]].movie_name)\n",
    "        \n",
    "    "
   ]
  },
  {
   "cell_type": "code",
   "execution_count": 45,
   "metadata": {},
   "outputs": [
    {
     "name": "stdout",
     "output_type": "stream",
     "text": [
      "Parvarish\n",
      "Radhe\n",
      "Shakti\n",
      "Dhoom:2\n",
      "De Dana Dan\n"
     ]
    }
   ],
   "source": [
    "recommend('Jailer')"
   ]
  },
  {
   "cell_type": "code",
   "execution_count": 46,
   "metadata": {},
   "outputs": [],
   "source": [
    "import pickle"
   ]
  },
  {
   "cell_type": "code",
   "execution_count": 47,
   "metadata": {},
   "outputs": [],
   "source": [
    "pickle.dump(new,open('movie_list.pkl','wb'))\n",
    "pickle.dump(similarity,open('similarity.pkl','wb'))"
   ]
  },
  {
   "cell_type": "code",
   "execution_count": 48,
   "metadata": {},
   "outputs": [],
   "source": [
    "pickle.dump(new.to_dict(),open('movie_dict.pkl','wb'))"
   ]
  },
  {
   "cell_type": "code",
   "execution_count": 50,
   "metadata": {},
   "outputs": [],
   "source": [
    "pickle.dump(similarity,open('similarity.pkl','wb'))"
   ]
  },
  {
   "cell_type": "code",
   "execution_count": null,
   "metadata": {},
   "outputs": [],
   "source": []
  }
 ],
 "metadata": {
  "kernelspec": {
   "display_name": "Python 3 (ipykernel)",
   "language": "python",
   "name": "python3"
  },
  "language_info": {
   "codemirror_mode": {
    "name": "ipython",
    "version": 3
   },
   "file_extension": ".py",
   "mimetype": "text/x-python",
   "name": "python",
   "nbconvert_exporter": "python",
   "pygments_lexer": "ipython3",
   "version": "3.10.10"
  }
 },
 "nbformat": 4,
 "nbformat_minor": 4
}
